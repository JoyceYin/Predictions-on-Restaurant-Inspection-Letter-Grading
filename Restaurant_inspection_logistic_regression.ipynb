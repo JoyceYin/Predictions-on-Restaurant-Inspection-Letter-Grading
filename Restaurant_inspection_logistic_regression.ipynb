{
  "cells": [
    {
      "cell_type": "code",
      "execution_count": 1,
      "metadata": {
        "id": "ad4c6205"
      },
      "outputs": [],
      "source": [
        "import pandas as pd\n",
        "import numpy as np"
      ],
      "id": "ad4c6205"
    },
    {
      "cell_type": "code",
      "execution_count": 2,
      "metadata": {
        "colab": {
          "base_uri": "https://localhost:8080/",
          "height": 314
        },
        "id": "ca97c324",
        "outputId": "b2a03a0c-9e8e-456b-bb2e-4ebd2a3e3c9c"
      },
      "outputs": [
        {
          "output_type": "execute_result",
          "data": {
            "text/plain": [
              "     CUISINE DESCRIPTION GRADE  FoodDOSite_Within_300m  SubwayWithin_300m  \\\n",
              "0  Pizza/Hotdogs/Chicken     A                       0                  3   \n",
              "1               American     A                       0                  4   \n",
              "2              Beverages     A                       0                  5   \n",
              "3            Vegan/Fruit     A                       0                  5   \n",
              "4              Beverages     A                       0                  4   \n",
              "\n",
              "   Rodent_Freq2021  RatioIncome  Population  mobile  citibike  sr311  ...  \\\n",
              "0              0.0       4432.0      4479.0  285822     54137    511  ...   \n",
              "1              0.0       4432.0      4479.0  285822     54137    511  ...   \n",
              "2              0.0       4432.0      4479.0  285822     54137    511  ...   \n",
              "3              1.0       4432.0      4479.0  285822     54137    511  ...   \n",
              "4              0.0       4432.0      4479.0  285822     54137    511  ...   \n",
              "\n",
              "   10E  10F  10G  10H  10I  10J  18-11  28-05  28-06  28-07  \n",
              "0    0    0    0    0    0    0      0      0      0      0  \n",
              "1    0    0    0    0    0    0      0      0      0      0  \n",
              "2    0    1    0    0    0    0      0      0      0      0  \n",
              "3    0    0    0    0    0    0      0      0      0      0  \n",
              "4    1    0    0    0    0    0      0      0      0      0  \n",
              "\n",
              "[5 rows x 84 columns]"
            ],
            "text/html": [
              "\n",
              "  <div id=\"df-b96002ac-c60f-4b77-80b0-9ad61b64b0a6\">\n",
              "    <div class=\"colab-df-container\">\n",
              "      <div>\n",
              "<style scoped>\n",
              "    .dataframe tbody tr th:only-of-type {\n",
              "        vertical-align: middle;\n",
              "    }\n",
              "\n",
              "    .dataframe tbody tr th {\n",
              "        vertical-align: top;\n",
              "    }\n",
              "\n",
              "    .dataframe thead th {\n",
              "        text-align: right;\n",
              "    }\n",
              "</style>\n",
              "<table border=\"1\" class=\"dataframe\">\n",
              "  <thead>\n",
              "    <tr style=\"text-align: right;\">\n",
              "      <th></th>\n",
              "      <th>CUISINE DESCRIPTION</th>\n",
              "      <th>GRADE</th>\n",
              "      <th>FoodDOSite_Within_300m</th>\n",
              "      <th>SubwayWithin_300m</th>\n",
              "      <th>Rodent_Freq2021</th>\n",
              "      <th>RatioIncome</th>\n",
              "      <th>Population</th>\n",
              "      <th>mobile</th>\n",
              "      <th>citibike</th>\n",
              "      <th>sr311</th>\n",
              "      <th>...</th>\n",
              "      <th>10E</th>\n",
              "      <th>10F</th>\n",
              "      <th>10G</th>\n",
              "      <th>10H</th>\n",
              "      <th>10I</th>\n",
              "      <th>10J</th>\n",
              "      <th>18-11</th>\n",
              "      <th>28-05</th>\n",
              "      <th>28-06</th>\n",
              "      <th>28-07</th>\n",
              "    </tr>\n",
              "  </thead>\n",
              "  <tbody>\n",
              "    <tr>\n",
              "      <th>0</th>\n",
              "      <td>Pizza/Hotdogs/Chicken</td>\n",
              "      <td>A</td>\n",
              "      <td>0</td>\n",
              "      <td>3</td>\n",
              "      <td>0.0</td>\n",
              "      <td>4432.0</td>\n",
              "      <td>4479.0</td>\n",
              "      <td>285822</td>\n",
              "      <td>54137</td>\n",
              "      <td>511</td>\n",
              "      <td>...</td>\n",
              "      <td>0</td>\n",
              "      <td>0</td>\n",
              "      <td>0</td>\n",
              "      <td>0</td>\n",
              "      <td>0</td>\n",
              "      <td>0</td>\n",
              "      <td>0</td>\n",
              "      <td>0</td>\n",
              "      <td>0</td>\n",
              "      <td>0</td>\n",
              "    </tr>\n",
              "    <tr>\n",
              "      <th>1</th>\n",
              "      <td>American</td>\n",
              "      <td>A</td>\n",
              "      <td>0</td>\n",
              "      <td>4</td>\n",
              "      <td>0.0</td>\n",
              "      <td>4432.0</td>\n",
              "      <td>4479.0</td>\n",
              "      <td>285822</td>\n",
              "      <td>54137</td>\n",
              "      <td>511</td>\n",
              "      <td>...</td>\n",
              "      <td>0</td>\n",
              "      <td>0</td>\n",
              "      <td>0</td>\n",
              "      <td>0</td>\n",
              "      <td>0</td>\n",
              "      <td>0</td>\n",
              "      <td>0</td>\n",
              "      <td>0</td>\n",
              "      <td>0</td>\n",
              "      <td>0</td>\n",
              "    </tr>\n",
              "    <tr>\n",
              "      <th>2</th>\n",
              "      <td>Beverages</td>\n",
              "      <td>A</td>\n",
              "      <td>0</td>\n",
              "      <td>5</td>\n",
              "      <td>0.0</td>\n",
              "      <td>4432.0</td>\n",
              "      <td>4479.0</td>\n",
              "      <td>285822</td>\n",
              "      <td>54137</td>\n",
              "      <td>511</td>\n",
              "      <td>...</td>\n",
              "      <td>0</td>\n",
              "      <td>1</td>\n",
              "      <td>0</td>\n",
              "      <td>0</td>\n",
              "      <td>0</td>\n",
              "      <td>0</td>\n",
              "      <td>0</td>\n",
              "      <td>0</td>\n",
              "      <td>0</td>\n",
              "      <td>0</td>\n",
              "    </tr>\n",
              "    <tr>\n",
              "      <th>3</th>\n",
              "      <td>Vegan/Fruit</td>\n",
              "      <td>A</td>\n",
              "      <td>0</td>\n",
              "      <td>5</td>\n",
              "      <td>1.0</td>\n",
              "      <td>4432.0</td>\n",
              "      <td>4479.0</td>\n",
              "      <td>285822</td>\n",
              "      <td>54137</td>\n",
              "      <td>511</td>\n",
              "      <td>...</td>\n",
              "      <td>0</td>\n",
              "      <td>0</td>\n",
              "      <td>0</td>\n",
              "      <td>0</td>\n",
              "      <td>0</td>\n",
              "      <td>0</td>\n",
              "      <td>0</td>\n",
              "      <td>0</td>\n",
              "      <td>0</td>\n",
              "      <td>0</td>\n",
              "    </tr>\n",
              "    <tr>\n",
              "      <th>4</th>\n",
              "      <td>Beverages</td>\n",
              "      <td>A</td>\n",
              "      <td>0</td>\n",
              "      <td>4</td>\n",
              "      <td>0.0</td>\n",
              "      <td>4432.0</td>\n",
              "      <td>4479.0</td>\n",
              "      <td>285822</td>\n",
              "      <td>54137</td>\n",
              "      <td>511</td>\n",
              "      <td>...</td>\n",
              "      <td>1</td>\n",
              "      <td>0</td>\n",
              "      <td>0</td>\n",
              "      <td>0</td>\n",
              "      <td>0</td>\n",
              "      <td>0</td>\n",
              "      <td>0</td>\n",
              "      <td>0</td>\n",
              "      <td>0</td>\n",
              "      <td>0</td>\n",
              "    </tr>\n",
              "  </tbody>\n",
              "</table>\n",
              "<p>5 rows × 84 columns</p>\n",
              "</div>\n",
              "      <button class=\"colab-df-convert\" onclick=\"convertToInteractive('df-b96002ac-c60f-4b77-80b0-9ad61b64b0a6')\"\n",
              "              title=\"Convert this dataframe to an interactive table.\"\n",
              "              style=\"display:none;\">\n",
              "        \n",
              "  <svg xmlns=\"http://www.w3.org/2000/svg\" height=\"24px\"viewBox=\"0 0 24 24\"\n",
              "       width=\"24px\">\n",
              "    <path d=\"M0 0h24v24H0V0z\" fill=\"none\"/>\n",
              "    <path d=\"M18.56 5.44l.94 2.06.94-2.06 2.06-.94-2.06-.94-.94-2.06-.94 2.06-2.06.94zm-11 1L8.5 8.5l.94-2.06 2.06-.94-2.06-.94L8.5 2.5l-.94 2.06-2.06.94zm10 10l.94 2.06.94-2.06 2.06-.94-2.06-.94-.94-2.06-.94 2.06-2.06.94z\"/><path d=\"M17.41 7.96l-1.37-1.37c-.4-.4-.92-.59-1.43-.59-.52 0-1.04.2-1.43.59L10.3 9.45l-7.72 7.72c-.78.78-.78 2.05 0 2.83L4 21.41c.39.39.9.59 1.41.59.51 0 1.02-.2 1.41-.59l7.78-7.78 2.81-2.81c.8-.78.8-2.07 0-2.86zM5.41 20L4 18.59l7.72-7.72 1.47 1.35L5.41 20z\"/>\n",
              "  </svg>\n",
              "      </button>\n",
              "      \n",
              "  <style>\n",
              "    .colab-df-container {\n",
              "      display:flex;\n",
              "      flex-wrap:wrap;\n",
              "      gap: 12px;\n",
              "    }\n",
              "\n",
              "    .colab-df-convert {\n",
              "      background-color: #E8F0FE;\n",
              "      border: none;\n",
              "      border-radius: 50%;\n",
              "      cursor: pointer;\n",
              "      display: none;\n",
              "      fill: #1967D2;\n",
              "      height: 32px;\n",
              "      padding: 0 0 0 0;\n",
              "      width: 32px;\n",
              "    }\n",
              "\n",
              "    .colab-df-convert:hover {\n",
              "      background-color: #E2EBFA;\n",
              "      box-shadow: 0px 1px 2px rgba(60, 64, 67, 0.3), 0px 1px 3px 1px rgba(60, 64, 67, 0.15);\n",
              "      fill: #174EA6;\n",
              "    }\n",
              "\n",
              "    [theme=dark] .colab-df-convert {\n",
              "      background-color: #3B4455;\n",
              "      fill: #D2E3FC;\n",
              "    }\n",
              "\n",
              "    [theme=dark] .colab-df-convert:hover {\n",
              "      background-color: #434B5C;\n",
              "      box-shadow: 0px 1px 3px 1px rgba(0, 0, 0, 0.15);\n",
              "      filter: drop-shadow(0px 1px 2px rgba(0, 0, 0, 0.3));\n",
              "      fill: #FFFFFF;\n",
              "    }\n",
              "  </style>\n",
              "\n",
              "      <script>\n",
              "        const buttonEl =\n",
              "          document.querySelector('#df-b96002ac-c60f-4b77-80b0-9ad61b64b0a6 button.colab-df-convert');\n",
              "        buttonEl.style.display =\n",
              "          google.colab.kernel.accessAllowed ? 'block' : 'none';\n",
              "\n",
              "        async function convertToInteractive(key) {\n",
              "          const element = document.querySelector('#df-b96002ac-c60f-4b77-80b0-9ad61b64b0a6');\n",
              "          const dataTable =\n",
              "            await google.colab.kernel.invokeFunction('convertToInteractive',\n",
              "                                                     [key], {});\n",
              "          if (!dataTable) return;\n",
              "\n",
              "          const docLinkHtml = 'Like what you see? Visit the ' +\n",
              "            '<a target=\"_blank\" href=https://colab.research.google.com/notebooks/data_table.ipynb>data table notebook</a>'\n",
              "            + ' to learn more about interactive tables.';\n",
              "          element.innerHTML = '';\n",
              "          dataTable['output_type'] = 'display_data';\n",
              "          await google.colab.output.renderOutput(dataTable, element);\n",
              "          const docLink = document.createElement('div');\n",
              "          docLink.innerHTML = docLinkHtml;\n",
              "          element.appendChild(docLink);\n",
              "        }\n",
              "      </script>\n",
              "    </div>\n",
              "  </div>\n",
              "  "
            ]
          },
          "metadata": {},
          "execution_count": 2
        }
      ],
      "source": [
        "data = pd.read_csv('clean3_withDummy.csv')\n",
        "data.head()"
      ],
      "id": "ca97c324"
    },
    {
      "cell_type": "code",
      "execution_count": 3,
      "metadata": {
        "colab": {
          "base_uri": "https://localhost:8080/"
        },
        "id": "eb218d03",
        "outputId": "21b1870e-36d1-4c5e-a0bf-cba47a222620"
      },
      "outputs": [
        {
          "output_type": "execute_result",
          "data": {
            "text/plain": [
              "(18667, 84)"
            ]
          },
          "metadata": {},
          "execution_count": 3
        }
      ],
      "source": [
        "data.shape"
      ],
      "id": "eb218d03"
    },
    {
      "cell_type": "code",
      "source": [
        "data.columns"
      ],
      "metadata": {
        "colab": {
          "base_uri": "https://localhost:8080/"
        },
        "id": "3s5haRJkiHWE",
        "outputId": "0c8b6a5f-31c9-43cb-8b8f-efc900f18904"
      },
      "id": "3s5haRJkiHWE",
      "execution_count": 4,
      "outputs": [
        {
          "output_type": "execute_result",
          "data": {
            "text/plain": [
              "Index(['CUISINE DESCRIPTION', 'GRADE', 'FoodDOSite_Within_300m',\n",
              "       'SubwayWithin_300m', 'Rodent_Freq2021', 'RatioIncome', 'Population',\n",
              "       'mobile', 'citibike', 'sr311', 'subway', 'taxi', 'twitter', 'working',\n",
              "       'residential', '02A', '02B', '02C', '02D', '02F', '02G', '02H', '02I',\n",
              "       '03A', '03B', '03C', '03D', '03E', '03F', '03G', '03I', '04A', '04B',\n",
              "       '04C', '04D', '04E', '04F', '04H', '04I', '04J', '04K', '04L', '04M',\n",
              "       '04N', '04O', '04P', '05A', '05B', '05C', '05D', '05E', '05F', '05H',\n",
              "       '06A', '06B', '06C', '06D', '06E', '06F', '06G', '06H', '06I', '08A',\n",
              "       '08B', '08C', '09A', '09B', '09C', '09D', '09E', '10A', '10B', '10C',\n",
              "       '10D', '10E', '10F', '10G', '10H', '10I', '10J', '18-11', '28-05',\n",
              "       '28-06', '28-07'],\n",
              "      dtype='object')"
            ]
          },
          "metadata": {},
          "execution_count": 4
        }
      ]
    },
    {
      "cell_type": "code",
      "execution_count": 5,
      "metadata": {
        "colab": {
          "base_uri": "https://localhost:8080/"
        },
        "id": "WgK2F4xuJks0",
        "outputId": "b39d0ebf-7b3b-44ea-e9ec-859e4fb827fd"
      },
      "outputs": [
        {
          "output_type": "execute_result",
          "data": {
            "text/plain": [
              "A    16753\n",
              "B     1354\n",
              "C      560\n",
              "Name: GRADE, dtype: int64"
            ]
          },
          "metadata": {},
          "execution_count": 5
        }
      ],
      "source": [
        "data['GRADE'].value_counts()"
      ],
      "id": "WgK2F4xuJks0"
    },
    {
      "cell_type": "code",
      "source": [],
      "metadata": {
        "id": "h6hQZtc3kZta"
      },
      "id": "h6hQZtc3kZta",
      "execution_count": null,
      "outputs": []
    },
    {
      "cell_type": "code",
      "execution_count": 6,
      "metadata": {
        "colab": {
          "base_uri": "https://localhost:8080/"
        },
        "id": "8f73b2c7",
        "outputId": "559e0ba0-a69e-4e84-f33c-17397b4768b4"
      },
      "outputs": [
        {
          "output_type": "stream",
          "name": "stdout",
          "text": [
            "(18667,)\n",
            "(18667, 101)\n"
          ]
        }
      ],
      "source": [
        "Y = data['GRADE']\n",
        "Y2 = Y.replace({'A':0,'B':1,'C':2})\n",
        "X = pd.get_dummies(data.loc[:,data.columns!='GRADE'])\n",
        "print(Y.shape)\n",
        "print(X.shape)"
      ],
      "id": "8f73b2c7"
    },
    {
      "cell_type": "code",
      "execution_count": 7,
      "metadata": {
        "id": "8649e3e8"
      },
      "outputs": [],
      "source": [
        "from sklearn.model_selection import train_test_split\n",
        "from sklearn.preprocessing import StandardScaler\n",
        "\n",
        "#standard continuous data before fiting model\n",
        "cont_features = X.loc[:,'FoodDOSite_Within_300m':'residential']\n",
        "dummies = X.loc[:,'02A':]\n",
        "cols = cont_features.columns\n",
        "\n",
        "scaler = StandardScaler()\n",
        "stand = scaler.fit_transform(cont_features)\n",
        "stand_features = pd.DataFrame(stand, columns=cols)\n",
        "\n",
        "X_standard = pd.concat([stand_features,dummies], axis=1)"
      ],
      "id": "8649e3e8"
    },
    {
      "cell_type": "code",
      "execution_count": 8,
      "metadata": {
        "colab": {
          "base_uri": "https://localhost:8080/"
        },
        "id": "96f5fed3",
        "outputId": "17b29ce2-0fa5-483e-dd1c-a8525710cd23"
      },
      "outputs": [
        {
          "output_type": "execute_result",
          "data": {
            "text/plain": [
              "(18667, 101)"
            ]
          },
          "metadata": {},
          "execution_count": 8
        }
      ],
      "source": [
        "X_standard.shape"
      ],
      "id": "96f5fed3"
    },
    {
      "cell_type": "code",
      "source": [
        "from sklearn.metrics import accuracy_score, classification_report, roc_auc_score\n",
        "from sklearn.linear_model import LogisticRegression\n",
        "from sklearn.metrics import accuracy_score\n",
        "np.random.seed(2023)\n",
        "\n",
        "#test the accuracy with default SVC parameters\n",
        "X_train1, X_test1, Y_train1, Y_test1 = train_test_split(X_standard,Y,test_size=0.3,random_state=999)\n",
        "lr_model = LogisticRegression()\n",
        "lr_model.fit(X_train1, Y_train1)\n",
        "y_pred = lr_model.predict(X_test1)"
      ],
      "metadata": {
        "colab": {
          "base_uri": "https://localhost:8080/"
        },
        "id": "F0SXqPgFkvvv",
        "outputId": "75a782ef-e4b3-486d-907e-43ff9a330f4c"
      },
      "id": "F0SXqPgFkvvv",
      "execution_count": 10,
      "outputs": [
        {
          "output_type": "stream",
          "name": "stderr",
          "text": [
            "/usr/local/lib/python3.10/dist-packages/sklearn/linear_model/_logistic.py:458: ConvergenceWarning: lbfgs failed to converge (status=1):\n",
            "STOP: TOTAL NO. of ITERATIONS REACHED LIMIT.\n",
            "\n",
            "Increase the number of iterations (max_iter) or scale the data as shown in:\n",
            "    https://scikit-learn.org/stable/modules/preprocessing.html\n",
            "Please also refer to the documentation for alternative solver options:\n",
            "    https://scikit-learn.org/stable/modules/linear_model.html#logistic-regression\n",
            "  n_iter_i = _check_optimize_result(\n"
          ]
        }
      ]
    },
    {
      "cell_type": "code",
      "execution_count": 11,
      "metadata": {
        "colab": {
          "base_uri": "https://localhost:8080/"
        },
        "id": "632a06a3",
        "outputId": "ca51e4bd-d65e-4eeb-f170-3d4ebac05249"
      },
      "outputs": [
        {
          "output_type": "stream",
          "name": "stdout",
          "text": [
            "Accuracy: 0.9209069808962685\n"
          ]
        }
      ],
      "source": [
        "accuracy = accuracy_score(Y_test1, y_pred)\n",
        "print(\"Accuracy:\", accuracy)"
      ],
      "id": "632a06a3"
    }
  ],
  "metadata": {
    "colab": {
      "provenance": []
    },
    "kernelspec": {
      "display_name": "Python 3 (ipykernel)",
      "language": "python",
      "name": "python3"
    },
    "language_info": {
      "codemirror_mode": {
        "name": "ipython",
        "version": 3
      },
      "file_extension": ".py",
      "mimetype": "text/x-python",
      "name": "python",
      "nbconvert_exporter": "python",
      "pygments_lexer": "ipython3",
      "version": "3.9.10"
    }
  },
  "nbformat": 4,
  "nbformat_minor": 5
}